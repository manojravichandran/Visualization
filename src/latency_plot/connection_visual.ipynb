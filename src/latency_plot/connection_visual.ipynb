{
 "cells": [
  {
   "cell_type": "code",
   "execution_count": 25,
   "metadata": {},
   "outputs": [],
   "source": [
    "import numpy as np\n",
    "import pandas as pd"
   ]
  },
  {
   "cell_type": "code",
   "execution_count": 26,
   "metadata": {},
   "outputs": [],
   "source": [
    "data =pd.read_csv('resvt.csv') #path for other file"
   ]
  },
  {
   "cell_type": "code",
   "execution_count": 36,
   "metadata": {},
   "outputs": [
    {
     "name": "stdout",
     "output_type": "stream",
     "text": [
      "<class 'pandas.core.frame.DataFrame'>\n",
      "RangeIndex: 150 entries, 0 to 149\n",
      "Data columns (total 17 columns):\n",
      "timeStamp          150 non-null int64\n",
      "elapsed            150 non-null int64\n",
      "label              150 non-null object\n",
      "responseCode       150 non-null object\n",
      "responseMessage    150 non-null object\n",
      "threadName         150 non-null object\n",
      "dataType           100 non-null object\n",
      "success            150 non-null bool\n",
      "failureMessage     0 non-null float64\n",
      "bytes              150 non-null int64\n",
      "sentBytes          150 non-null int64\n",
      "grpThreads         150 non-null int64\n",
      "allThreads         150 non-null int64\n",
      "URL                150 non-null object\n",
      "Latency            150 non-null int64\n",
      "IdleTime           150 non-null int64\n",
      "Connect            150 non-null int64\n",
      "dtypes: bool(1), float64(1), int64(9), object(6)\n",
      "memory usage: 19.0+ KB\n"
     ]
    },
    {
     "data": {
      "text/html": [
       "<div>\n",
       "<style scoped>\n",
       "    .dataframe tbody tr th:only-of-type {\n",
       "        vertical-align: middle;\n",
       "    }\n",
       "\n",
       "    .dataframe tbody tr th {\n",
       "        vertical-align: top;\n",
       "    }\n",
       "\n",
       "    .dataframe thead th {\n",
       "        text-align: right;\n",
       "    }\n",
       "</style>\n",
       "<table border=\"1\" class=\"dataframe\">\n",
       "  <thead>\n",
       "    <tr style=\"text-align: right;\">\n",
       "      <th></th>\n",
       "      <th>timeStamp</th>\n",
       "      <th>elapsed</th>\n",
       "      <th>label</th>\n",
       "      <th>responseCode</th>\n",
       "      <th>responseMessage</th>\n",
       "      <th>threadName</th>\n",
       "      <th>dataType</th>\n",
       "      <th>success</th>\n",
       "      <th>failureMessage</th>\n",
       "      <th>bytes</th>\n",
       "      <th>sentBytes</th>\n",
       "      <th>grpThreads</th>\n",
       "      <th>allThreads</th>\n",
       "      <th>URL</th>\n",
       "      <th>Latency</th>\n",
       "      <th>IdleTime</th>\n",
       "      <th>Connect</th>\n",
       "    </tr>\n",
       "  </thead>\n",
       "  <tbody>\n",
       "    <tr>\n",
       "      <th>0</th>\n",
       "      <td>1564156719481</td>\n",
       "      <td>12204</td>\n",
       "      <td>HTTP Request</td>\n",
       "      <td>200</td>\n",
       "      <td>OK</td>\n",
       "      <td>yogitest 1-16</td>\n",
       "      <td>text</td>\n",
       "      <td>True</td>\n",
       "      <td>NaN</td>\n",
       "      <td>8335</td>\n",
       "      <td>230</td>\n",
       "      <td>50</td>\n",
       "      <td>50</td>\n",
       "      <td>https://yoginth.com/</td>\n",
       "      <td>463</td>\n",
       "      <td>0</td>\n",
       "      <td>174</td>\n",
       "    </tr>\n",
       "    <tr>\n",
       "      <th>1</th>\n",
       "      <td>1564156719481</td>\n",
       "      <td>463</td>\n",
       "      <td>HTTP Request-0</td>\n",
       "      <td>301</td>\n",
       "      <td>Moved Permanently</td>\n",
       "      <td>yogitest 1-16</td>\n",
       "      <td>NaN</td>\n",
       "      <td>True</td>\n",
       "      <td>NaN</td>\n",
       "      <td>279</td>\n",
       "      <td>115</td>\n",
       "      <td>50</td>\n",
       "      <td>50</td>\n",
       "      <td>http://yoginth.com/</td>\n",
       "      <td>463</td>\n",
       "      <td>0</td>\n",
       "      <td>174</td>\n",
       "    </tr>\n",
       "    <tr>\n",
       "      <th>2</th>\n",
       "      <td>1564156719945</td>\n",
       "      <td>11740</td>\n",
       "      <td>HTTP Request-1</td>\n",
       "      <td>200</td>\n",
       "      <td>OK</td>\n",
       "      <td>yogitest 1-16</td>\n",
       "      <td>text</td>\n",
       "      <td>True</td>\n",
       "      <td>NaN</td>\n",
       "      <td>8056</td>\n",
       "      <td>115</td>\n",
       "      <td>50</td>\n",
       "      <td>50</td>\n",
       "      <td>https://yoginth.com/</td>\n",
       "      <td>11549</td>\n",
       "      <td>0</td>\n",
       "      <td>9548</td>\n",
       "    </tr>\n",
       "    <tr>\n",
       "      <th>3</th>\n",
       "      <td>1564156719466</td>\n",
       "      <td>14112</td>\n",
       "      <td>HTTP Request</td>\n",
       "      <td>200</td>\n",
       "      <td>OK</td>\n",
       "      <td>yogitest 1-33</td>\n",
       "      <td>text</td>\n",
       "      <td>True</td>\n",
       "      <td>NaN</td>\n",
       "      <td>8328</td>\n",
       "      <td>230</td>\n",
       "      <td>49</td>\n",
       "      <td>49</td>\n",
       "      <td>https://yoginth.com/</td>\n",
       "      <td>776</td>\n",
       "      <td>0</td>\n",
       "      <td>221</td>\n",
       "    </tr>\n",
       "    <tr>\n",
       "      <th>4</th>\n",
       "      <td>1564156719466</td>\n",
       "      <td>776</td>\n",
       "      <td>HTTP Request-0</td>\n",
       "      <td>301</td>\n",
       "      <td>Moved Permanently</td>\n",
       "      <td>yogitest 1-33</td>\n",
       "      <td>NaN</td>\n",
       "      <td>True</td>\n",
       "      <td>NaN</td>\n",
       "      <td>279</td>\n",
       "      <td>115</td>\n",
       "      <td>49</td>\n",
       "      <td>49</td>\n",
       "      <td>http://yoginth.com/</td>\n",
       "      <td>776</td>\n",
       "      <td>0</td>\n",
       "      <td>221</td>\n",
       "    </tr>\n",
       "  </tbody>\n",
       "</table>\n",
       "</div>"
      ],
      "text/plain": [
       "       timeStamp  elapsed           label responseCode    responseMessage  \\\n",
       "0  1564156719481    12204    HTTP Request          200                 OK   \n",
       "1  1564156719481      463  HTTP Request-0          301  Moved Permanently   \n",
       "2  1564156719945    11740  HTTP Request-1          200                 OK   \n",
       "3  1564156719466    14112    HTTP Request          200                 OK   \n",
       "4  1564156719466      776  HTTP Request-0          301  Moved Permanently   \n",
       "\n",
       "      threadName dataType  success  failureMessage  bytes  sentBytes  \\\n",
       "0  yogitest 1-16     text     True             NaN   8335        230   \n",
       "1  yogitest 1-16      NaN     True             NaN    279        115   \n",
       "2  yogitest 1-16     text     True             NaN   8056        115   \n",
       "3  yogitest 1-33     text     True             NaN   8328        230   \n",
       "4  yogitest 1-33      NaN     True             NaN    279        115   \n",
       "\n",
       "   grpThreads  allThreads                   URL  Latency  IdleTime  Connect  \n",
       "0          50          50  https://yoginth.com/      463         0      174  \n",
       "1          50          50   http://yoginth.com/      463         0      174  \n",
       "2          50          50  https://yoginth.com/    11549         0     9548  \n",
       "3          49          49  https://yoginth.com/      776         0      221  \n",
       "4          49          49   http://yoginth.com/      776         0      221  "
      ]
     },
     "execution_count": 36,
     "metadata": {},
     "output_type": "execute_result"
    }
   ],
   "source": [
    "data.info()\n",
    "data.head()"
   ]
  },
  {
   "cell_type": "code",
   "execution_count": 38,
   "metadata": {},
   "outputs": [
    {
     "data": {
      "text/plain": [
       "<matplotlib.axes._subplots.AxesSubplot at 0x200ca95dc50>"
      ]
     },
     "execution_count": 38,
     "metadata": {},
     "output_type": "execute_result"
    },
    {
     "data": {
      "image/png": "[encoded data removed]",
      "text/plain": [
       "<Figure size 432x288 with 1 Axes>"
      ]
     },
     "metadata": {},
     "output_type": "display_data"
    }
   ],
   "source": [
    "data['Connect'].plot.line() #hist for histogram"
   ]
  },
  {
   "cell_type": "code",
   "execution_count": null,
   "metadata": {},
   "outputs": [],
   "source": []
  },
  {
   "cell_type": "code",
   "execution_count": null,
   "metadata": {},
   "outputs": [],
   "source": []
  },
  {
   "cell_type": "code",
   "execution_count": null,
   "metadata": {},
   "outputs": [],
   "source": []
  }
 ],
 "metadata": {
  "kernelspec": {
   "display_name": "Python 3",
   "language": "python",
   "name": "python3"
  },
  "language_info": {
   "codemirror_mode": {
    "name": "ipython",
    "version": 3
   },
   "file_extension": ".py",
   "mimetype": "text/x-python",
   "name": "python",
   "nbconvert_exporter": "python",
   "pygments_lexer": "ipython3",
   "version": "3.6.5"
  }
 },
 "nbformat": 4,
 "nbformat_minor": 2
}
